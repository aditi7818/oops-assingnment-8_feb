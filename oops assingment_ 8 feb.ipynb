{
 "cells": [
  {
   "cell_type": "code",
   "execution_count": null,
   "id": "bbbdf606-fa55-4356-8e8f-208050eabf14",
   "metadata": {},
   "outputs": [],
   "source": [
    "Question: What is Abstaction in Oops? Explain with an example.\n",
    "\n",
    "Answer: Abstaction is used to hide the internal functionality of the function from the users. The users only interact with the basic implementation of the function,\n",
    "but inner working is hidden. User is familiar with that \"what function does\" but they do not know \"how it does\".\n",
    "In simple words, we all use the smartphone and very much familiar with its functions such as camera, voice-recorder, call-dialing, etc., but we do not know how these \n",
    "operations are happening in the background.\n",
    "That is exactly the abstaction that that works in the object-oriented concept.\n",
    "\n",
    "Example: \n",
    "class tesla(car):\n",
    "    def milaeage(self):\n",
    "        print(\"the mileage is 30kmph\")\n",
    "class suzuki(car):\n",
    "    def mileage(self):\n",
    "        print(\"the mileage is 25kmph\")\n",
    "class duster(car):\n",
    "    def mileage(self):\n",
    "        print(\"the mileage is 24kmph\")\n",
    "        \n",
    "class renault(car):\n",
    "    def mileage(self):\n",
    "        print(\"the mileage is 27kmph\")\n",
    "        \n",
    "t = tesla()\n",
    "t.mileage()\n",
    "\n",
    "r= renault()\n",
    "r.mileage()\n",
    "\n",
    "s= suzuki()\n",
    "s.milage()\n",
    "d= duster()\n",
    "d.milage()"
   ]
  },
  {
   "cell_type": "code",
   "execution_count": null,
   "id": "b8224c40-89d7-4d2e-b6d3-03f0ad3c0866",
   "metadata": {},
   "outputs": [],
   "source": [
    "Question: Differentiate between Abstraction and encapsulation. Expalain with an example.\n",
    "Answer: \n",
    "\"Encapsulation in python\"\n",
    "it describes the idea of wrapping data and the methods that work on data within one unit.\n",
    "\n",
    "Example: In a company, there are different sections like the accounts section, finance section, sales section etc. the finance section handles all the financial transa tions and \n",
    "keeps records of all data related to finance. similarly, the sales section handles all the sales related activites and keeps records of all the the sales. now there may arise a \n",
    "situation when due to some reason an offical from the finance section needs all the data of the sales section. he will first have to contact some other officer in the sales section \n",
    "and then request him to give the particular data. this is what encapsulation is.\n",
    "\n",
    "\"Abstraction\":\n",
    "Abstaction is used to hide the internal functionality of the function from the users. the users only interact with basic implementation of the function, but inner working is hidden.\n",
    "user is familiar with that \" what function does\" but they do not know \" how it does\".\n",
    "\n",
    "Example: when we use the TV remote to increase the volume. we do not know how pressing a key increases the volume of the tv. we only know to press the\"+\" button to increase the \n",
    "volume."
   ]
  },
  {
   "cell_type": "code",
   "execution_count": null,
   "id": "bb36bc95-224b-46f4-a40d-75e8553dfa15",
   "metadata": {},
   "outputs": [],
   "source": [
    "Question: What is abc module in python?  why it is used?\n",
    "Answer: a class is called an abstact class if it contains one or more abstact methods. an abstact metod is a method is a method that is declared, but contains no\n",
    "implementation. Abstact classes may not be instantiaed, and its abstact methods must be implemented by its subclasses.\n",
    "\n",
    "The main goal of the abstaction base class is to provide a standardized way to test whether an object adheres to a given specification. \n",
    "it can also prevent any attempt to instantiate a subclass that does not override a particular method in the superclass. And finally, using an abstact class,\n",
    "a class , a class can derive identify from another class without any object inheritance."
   ]
  },
  {
   "cell_type": "code",
   "execution_count": null,
   "id": "df73c983-8d82-40e1-8d47-e1d504d1b01c",
   "metadata": {},
   "outputs": [],
   "source": [
    "Question: How can we achieve data abstraction?\n",
    "Answer: In python, abstaction can be achieved by using abstract classes and interfaces.\n",
    "A class that consists of one or more abstract method is called the abstact class. Abstract methods do not contain thier implementation."
   ]
  },
  {
   "cell_type": "code",
   "execution_count": null,
   "id": "3896d4c2-9b5d-4430-a433-b9de84dd5878",
   "metadata": {},
   "outputs": [],
   "source": [
    "Question: Can we create an instance of an abstract class? Explain your answer.\n",
    "Answer: We cannot create an instance or object of an abstact class.\n",
    "because, an abstact class is an incomplete class(incomplete in the sense it contains abstract methods without body and output)"
   ]
  }
 ],
 "metadata": {
  "kernelspec": {
   "display_name": "Python 3 (ipykernel)",
   "language": "python",
   "name": "python3"
  },
  "language_info": {
   "codemirror_mode": {
    "name": "ipython",
    "version": 3
   },
   "file_extension": ".py",
   "mimetype": "text/x-python",
   "name": "python",
   "nbconvert_exporter": "python",
   "pygments_lexer": "ipython3",
   "version": "3.10.8"
  }
 },
 "nbformat": 4,
 "nbformat_minor": 5
}
